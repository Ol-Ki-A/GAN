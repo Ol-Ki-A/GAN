{
  "nbformat": 4,
  "nbformat_minor": 0,
  "metadata": {
    "colab": {
      "name": "Untitled28.ipynb",
      "provenance": []
    },
    "kernelspec": {
      "name": "python3",
      "display_name": "Python 3"
    },
    "language_info": {
      "name": "python"
    }
  },
  "cells": [
    {
      "cell_type": "code",
      "execution_count": null,
      "metadata": {
        "id": "843jqf6fIt1d"
      },
      "outputs": [],
      "source": [
        "opt1 = torch.optim.Adam(discriminator.parameters(), lr=1e-4)\n",
        "opt2 = torch.optim.Adam(generator.parameters(), lr=1e-4)\n",
        "BCE_loss1 = torch.nn.BCELoss()\n",
        "BCE_loss2 = torch.nn.BCELoss()"
      ]
    }
  ]
}