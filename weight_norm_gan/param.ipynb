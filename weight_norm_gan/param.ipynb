{
  "nbformat": 4,
  "nbformat_minor": 0,
  "metadata": {
    "colab": {
      "name": "param.ipynb",
      "provenance": []
    },
    "kernelspec": {
      "name": "python3",
      "display_name": "Python 3"
    },
    "language_info": {
      "name": "python"
    }
  },
  "cells": [
    {
      "cell_type": "code",
      "execution_count": null,
      "metadata": {
        "id": "rU4qVU_0HoIY"
      },
      "outputs": [],
      "source": [
        "batch_size = 100\n",
        "batch_size_test = 100\n",
        "latent_size = 100\n",
        "lr=1e-4\n",
        "epochs = 700"
      ]
    }
  ]
}