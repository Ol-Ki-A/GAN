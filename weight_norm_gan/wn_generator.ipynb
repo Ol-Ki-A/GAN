{
  "nbformat": 4,
  "nbformat_minor": 0,
  "metadata": {
    "colab": {
      "name": "Untitled29.ipynb",
      "provenance": []
    },
    "kernelspec": {
      "name": "python3",
      "display_name": "Python 3"
    },
    "language_info": {
      "name": "python"
    }
  },
  "cells": [
    {
      "cell_type": "code",
      "execution_count": null,
      "metadata": {
        "id": "9nHsIJabQYGo"
      },
      "outputs": [],
      "source": [
        "latent_size = 100\n",
        "generator = nn.Sequential(       \n",
        "        weight_norm(nn.Linear(latent_size, 128)),\n",
        "        nn.LeakyReLU(0.2, inplace=True),\n",
        "        (nn.Linear(128, 256)),\n",
        "        nn.LeakyReLU(0.2, inplace=True),\n",
        "        weight_norm(nn.Linear(256, 512)),\n",
        "        nn.LeakyReLU(0.2, inplace=True),\n",
        "        (nn.Linear(512, 784)),\n",
        "        nn.BatchNorm1d(784),\n",
        "        nn.Sigmoid()\n",
        ")"
      ]
    }
  ]
}