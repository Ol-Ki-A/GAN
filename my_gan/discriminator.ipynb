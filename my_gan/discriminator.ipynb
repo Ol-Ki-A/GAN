{
  "nbformat": 4,
  "nbformat_minor": 0,
  "metadata": {
    "colab": {
      "name": "Untitled25.ipynb",
      "provenance": []
    },
    "kernelspec": {
      "name": "python3",
      "display_name": "Python 3"
    },
    "language_info": {
      "name": "python"
    }
  },
  "cells": [
    {
      "cell_type": "code",
      "execution_count": null,
      "metadata": {
        "id": "lNacNte0IAFU"
      },
      "outputs": [],
      "source": [
        "discriminator = nn.Sequential(\n",
        "    #  1 x 28 x 28\n",
        "    nn.Linear(784, 1024),\n",
        "    nn.Dropout(p=0.3),\n",
        "    nn.LeakyReLU(0.2, inplace=True),\n",
        "    nn.Linear(1024, 512),\n",
        "    nn.Dropout(p=0.5),\n",
        "    nn.LeakyReLU(0.5, inplace=True),\n",
        "    nn.Linear(512, 256),\n",
        "    nn.Dropout(p=0.3),\n",
        "    nn.LeakyReLU(0.2, inplace=True),\n",
        "    nn.Linear(256, 1),\n",
        "    nn.Flatten(),\n",
        "    nn.Sigmoid())"
      ]
    }
  ]
}