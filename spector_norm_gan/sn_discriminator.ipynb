{
  "nbformat": 4,
  "nbformat_minor": 0,
  "metadata": {
    "colab": {
      "name": "Untitled29.ipynb",
      "provenance": []
    },
    "kernelspec": {
      "name": "python3",
      "display_name": "Python 3"
    },
    "language_info": {
      "name": "python"
    }
  },
  "cells": [
    {
      "cell_type": "code",
      "execution_count": null,
      "metadata": {
        "id": "9nHsIJabQYGo"
      },
      "outputs": [],
      "source": [
        "discriminator = nn.Sequential(\n",
        "    spectral_norm(nn.Linear(784, 1024)),\n",
        "    nn.LeakyReLU(0.2, inplace=True),\n",
        "    spectral_norm(nn.Linear(1024, 512)),\n",
        "    nn.LeakyReLU(0.2, inplace=True),\n",
        "    spectral_norm(nn.Linear(512, 256)),\n",
        "    nn.LeakyReLU(0.2, inplace=True),\n",
        "    spectral_norm(nn.Linear(256, 1)),\n",
        "    nn.Flatten(),\n",
        "    nn.Sigmoid())"
      ]
    }
  ]
}