{
  "nbformat": 4,
  "nbformat_minor": 0,
  "metadata": {
    "colab": {
      "name": "Untitled27.ipynb",
      "provenance": []
    },
    "kernelspec": {
      "name": "python3",
      "display_name": "Python 3"
    },
    "language_info": {
      "name": "python"
    }
  },
  "cells": [
    {
      "cell_type": "code",
      "execution_count": null,
      "metadata": {
        "id": "-N8_POyKIal5"
      },
      "outputs": [],
      "source": [
        "real_score = []\n",
        "fake_score = []\n",
        "epochs = 310\n",
        "losses_g = []\n",
        "losses_d = []\n",
        "for epoch in range(epochs):\n",
        "  loss_d_tmp = []\n",
        "  loss_g_tmp = []\n",
        "  real_score_tmp = []\n",
        "  fake_score_tmp = []\n",
        "  for real_image, i in tqdm(train_loader):\n",
        "    opt1.zero_grad()\n",
        "    real_image = real_image.to(device)\n",
        "    real_image = real_image.view(-1, 784)\n",
        "    real_preds = discriminator(real_image)\n",
        "    real_targets = torch.ones(real_image.size(0), 1, device=device) \n",
        "    real_loss = BCE_loss1(real_preds, real_targets)\n",
        "    latent = torch.randn(batch_size, latent_size, device=device)\n",
        "    fake_image = generator(latent)\n",
        "    fake_targets = torch.zeros(fake_image.size(0), 1, device=device)\n",
        "    fake_preds = discriminator(fake_image)\n",
        "    fake_loss = BCE_loss2(fake_preds, fake_targets)\n",
        "    real_score_tmp.append(torch.mean(real_preds).item())\n",
        "    fake_score_tmp.append(torch.mean(fake_preds).item())\n",
        "    loss_d = real_loss + fake_loss\n",
        "    loss_d.backward()\n",
        "    opt1.step()\n",
        "    loss_d_tmp.append(loss_d.item())\n",
        "    opt2.zero_grad()\n",
        "    latent = torch.randn(batch_size, latent_size, device=device)\n",
        "    fake_image = generator(latent)\n",
        "    preds = discriminator(fake_image)\n",
        "    targets = torch.ones(batch_size, 1, device=device)\n",
        "    loss_g = BCE_loss2(preds, targets)г\n",
        "    loss_g.backward()\n",
        "    opt2.step()\n",
        "    loss_g_tmp.append(loss_g.item())\n",
        "  if (epoch % 5 == 0):  \n",
        "    torch.save(generator, \"model_gen\" + str(epoch + 195) + \".zip\")\n",
        "    torch.save(discriminator, \"model_dis\" + str(epoch + 195) + \".zip\")\n",
        "  print(f'loss generator on {epoch} = {np.mean(loss_g_tmp)}')\n",
        "  print(f'loss discriminator on {epoch} = {np.mean(loss_d_tmp)}')\n",
        "  print(f'real scores on {epoch} = {np.mean(real_score_tmp)}')\n",
        "  print(f'fake scores on {epoch} = {np.mean(fake_score_tmp)}')\n",
        "  losses_g.append(np.mean(loss_g_tmp))\n",
        "  losses_d.append(np.mean(loss_d_tmp))\n",
        "  real_score.append(np.mean(real_score_tmp))\n",
        "  fake_score.append(np.mean(fake_score_tmp))"
      ]
    }
  ]
}