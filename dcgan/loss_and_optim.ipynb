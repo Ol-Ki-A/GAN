{
  "nbformat": 4,
  "nbformat_minor": 0,
  "metadata": {
    "colab": {
      "name": "Untitled31.ipynb",
      "provenance": []
    },
    "kernelspec": {
      "name": "python3",
      "display_name": "Python 3"
    },
    "language_info": {
      "name": "python"
    }
  },
  "cells": [
    {
      "cell_type": "code",
      "source": [
        "criterion = nn.BCELoss()\n",
        "optDis = optim.Adam(netDis.parameters(), lr=0.0002, betas = (0.5, 0.999))\n",
        "optGen = optim.Adam(netGen.parameters(), lr=0.0002, betas = (0.5, 0.999))"
      ],
      "metadata": {
        "id": "VJ1d7S21eqoj"
      },
      "execution_count": null,
      "outputs": []
    }
  ]
}