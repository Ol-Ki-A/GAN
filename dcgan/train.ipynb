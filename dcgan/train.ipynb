{
  "nbformat": 4,
  "nbformat_minor": 0,
  "metadata": {
    "colab": {
      "name": "Untitled31.ipynb",
      "provenance": []
    },
    "kernelspec": {
      "name": "python3",
      "display_name": "Python 3"
    },
    "language_info": {
      "name": "python"
    }
  },
  "cells": [
    {
      "cell_type": "code",
      "execution_count": null,
      "metadata": {
        "id": "nlco5_q7bHvd"
      },
      "outputs": [],
      "source": [
        "real_score = []\n",
        "fake_score = []\n",
        "epochs = 88\n",
        "losses_g = []\n",
        "losses_d = []\n",
        "for epoch in range(epochs):\n",
        "  loss_d_tmp = []\n",
        "  loss_g_tmp = []\n",
        "  real_score_tmp = []\n",
        "  fake_score_tmp = []\n",
        "  for real_image, i in tqdm(train_loader):\n",
        "    netDis.zero_grad()\n",
        "    real_image = real_image.to(device)\n",
        "    real_image = Variable(real_image)\n",
        "    real_preds = netDis(real_image)\n",
        "    real_targets = Variable(torch.ones(real_image.size()[0], device=device)) \n",
        "    real_loss = criterion(real_preds, real_targets)\n",
        "    latent = Variable(torch.randn(real_image.size()[0], latent_size, 1, 1, device=device))\n",
        "    fake_image = netGen(latent)\n",
        "    fake_targets = Variable(torch.zeros(real_image.size()[0], device=device))\n",
        "    fake_preds = netDis(fake_image)\n",
        "    fake_loss = criterion(fake_preds, fake_targets)\n",
        "    real_score_tmp.append(torch.mean(real_preds).item())\n",
        "    fake_score_tmp.append(torch.mean(fake_preds).item())\n",
        "    loss_d = real_loss + fake_loss\n",
        "    loss_d.backward()\n",
        "    optDis.step()\n",
        "    loss_d_tmp.append(loss_d.item())\n",
        "    netGen.zero_grad()\n",
        "    latent = torch.randn(real_image.size()[0], latent_size, 1, 1, device=device)\n",
        "    fake_image = netGen(latent)\n",
        "    preds = netDis(fake_image)\n",
        "    targets = Variable(torch.ones(real_image.size()[0], device=device))\n",
        "    loss_g = criterion(preds, targets)\n",
        "    loss_g.backward()\n",
        "    optGen.step()\n",
        "    loss_g_tmp.append(loss_g.item()) \n",
        "    fake_image = netGen(latent) \n",
        "    vutils.save_image(fake_image.data, '%s/fake_samples_epoch_%03d.png' % (\"/content/data\", epoch), normalize = True)\n",
        "    torch.save(netGen, \"model_gen\" + str(epoch) + \".zip\")\n",
        "    torch.save(netDis, \"model_dis\" + str(epoch) + \".zip\")\n",
        "  print(f'loss generator on {epoch} = {np.mean(loss_g_tmp)}')\n",
        "  print(f'real scores on {epoch} = {np.mean(real_score_tmp)}')\n",
        "  print(f'fake scores on {epoch} = {np.mean(fake_score_tmp)}')\n",
        "  losses_g.append(np.mean(loss_g_tmp))\n",
        "  losses_d.append(np.mean(loss_d_tmp))\n",
        "  real_score.append(np.mean(real_score_tmp))\n",
        "  fake_score.append(np.mean(fake_score_tmp))"
      ]
    }
  ]
}