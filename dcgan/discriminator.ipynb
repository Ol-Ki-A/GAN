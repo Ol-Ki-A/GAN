{
  "nbformat": 4,
  "nbformat_minor": 0,
  "metadata": {
    "colab": {
      "name": "Untitled31.ipynb",
      "provenance": []
    },
    "kernelspec": {
      "name": "python3",
      "display_name": "Python 3"
    },
    "language_info": {
      "name": "python"
    }
  },
  "cells": [
    {
      "cell_type": "code",
      "execution_count": null,
      "metadata": {
        "id": "nlco5_q7bHvd"
      },
      "outputs": [],
      "source": [
        "class Discriminator(nn.Module):\n",
        "  def __init__(self):\n",
        "    super(Discriminator, self).__init__()\n",
        "    self.d = nn.Sequential(\n",
        "        nn.Conv2d(3, 64, 4, 2, 1, bias = False),\n",
        "        nn.LeakyReLU(0.2, inplace = True),\n",
        "        nn.Conv2d(64, 128, 4, 2, 1, bias = False),\n",
        "        nn.BatchNorm2d(128),\n",
        "        nn.LeakyReLU(0.2, inplace = True), \n",
        "        nn.Conv2d(128, 256, 4, 2, 1, bias = False),\n",
        "        nn.BatchNorm2d(256),\n",
        "        nn.LeakyReLU(0.2, inplace = True),\n",
        "        nn.Conv2d(256, 512, 4, 2, 1, bias = False),\n",
        "        nn.BatchNorm2d(512),\n",
        "        nn.LeakyReLU(0.2, inplace = True),\n",
        "        nn.Conv2d(512, 1, 4, 1, 0, bias = False),\n",
        "        nn.Sigmoid()\n",
        "    )\n",
        "  def forward(self, input):\n",
        "    ans = self.d(input)\n",
        "    return ans.view(-1) "
      ]
    }
  ]
}