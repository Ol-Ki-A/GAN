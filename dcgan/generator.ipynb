{
  "nbformat": 4,
  "nbformat_minor": 0,
  "metadata": {
    "colab": {
      "name": "Untitled31.ipynb",
      "provenance": []
    },
    "kernelspec": {
      "name": "python3",
      "display_name": "Python 3"
    },
    "language_info": {
      "name": "python"
    }
  },
  "cells": [
    {
      "cell_type": "code",
      "execution_count": null,
      "metadata": {
        "id": "nlco5_q7bHvd"
      },
      "outputs": [],
      "source": [
        "class Generator(nn.Module):\n",
        "  def __init__(self):\n",
        "    super(Generator, self).__init__()\n",
        "    self.g = nn.Sequential(\n",
        "        nn.ConvTranspose2d(100, 512, 4, 1, 0, bias = False),\n",
        "        nn.BatchNorm2d(512),\n",
        "        nn.ReLU(True),\n",
        "        nn.ConvTranspose2d(512, 256, 4, 2, 1, bias = False),\n",
        "        nn.BatchNorm2d(256),\n",
        "        nn.ReLU(True),\n",
        "        nn.ConvTranspose2d(256, 128, 4, 2, 1, bias = False),\n",
        "        nn.BatchNorm2d(128),\n",
        "        nn.ReLU(True),\n",
        "        nn.ConvTranspose2d(128, 64, 4, 2, 1, bias = False),\n",
        "        nn.BatchNorm2d(64),\n",
        "        nn.ReLU(True),\n",
        "        nn.ConvTranspose2d(64, 3, 4, 2, 1, bias = False),\n",
        "        nn.Tanh()\n",
        "    )\n",
        "  def forward(self, input):\n",
        "    fake = self.g(input)\n",
        "    return fake"
      ]
    }
  ]
}