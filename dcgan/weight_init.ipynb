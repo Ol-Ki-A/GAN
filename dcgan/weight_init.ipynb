{
  "nbformat": 4,
  "nbformat_minor": 0,
  "metadata": {
    "colab": {
      "name": "Untitled31.ipynb",
      "provenance": []
    },
    "kernelspec": {
      "name": "python3",
      "display_name": "Python 3"
    },
    "language_info": {
      "name": "python"
    }
  },
  "cells": [
    {
      "cell_type": "code",
      "execution_count": null,
      "metadata": {
        "id": "nlco5_q7bHvd"
      },
      "outputs": [],
      "source": [
        "def weight_init(m):\n",
        "  classname = m.__class__.__name__\n",
        "  if classname.find('Conv') != -1:\n",
        "    m.weight.data.normal_(0.0, 0.02)\n",
        "  elif classname.find('BatchNorm') != -1:\n",
        "    m.weight.data.normal_(1.0, 0.02)\n",
        "    m.bias.data.fill_(0)  \n",
        "latent_size = 100\n",
        "lr=0.0002\n",
        "betas = (0.5, 0.999)"
      ]
    }
  ]
}